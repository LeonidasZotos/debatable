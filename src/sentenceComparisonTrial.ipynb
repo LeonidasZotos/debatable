{
 "cells": [
  {
   "cell_type": "code",
   "execution_count": 50,
   "metadata": {},
   "outputs": [],
   "source": [
    "# Test notebook for semantic sentence comparison.\n",
    "from sentence_transformers import SentenceTransformer, InputExample, losses, evaluation\n",
    "from sentence_transformers.evaluation import EmbeddingSimilarityEvaluator\n",
    "from torch.utils.data import DataLoader\n",
    "from datetime import datetime\n",
    "import numpy as np\n",
    "import pandas as pd\n",
    "import math\n",
    "import gzip\n",
    "import csv"
   ]
  },
  {
   "cell_type": "code",
   "execution_count": 51,
   "metadata": {},
   "outputs": [],
   "source": [
    "# Define parameters:\n",
    "model_name = 'all-roberta-large-v1'\n",
    "train_batch_size = 16\n",
    "num_epochs = 1\n",
    "model_save_path = 'continuedLearning' + model_name + '-' + datetime.now().strftime(\"%Y-%m-%d_%H-%M-%S\")"
   ]
  },
  {
   "cell_type": "code",
   "execution_count": 52,
   "metadata": {},
   "outputs": [],
   "source": [
    "# Load model\n",
    "model = SentenceTransformer(model_name)"
   ]
  },
  {
   "cell_type": "code",
   "execution_count": 53,
   "metadata": {},
   "outputs": [],
   "source": [
    "# Load data and make train/dev/test split\n",
    "dataset = 'mrpcDataset'\n",
    "trainPath = dataset + '/train.csv'\n",
    "devPath = dataset + '/dev.csv'\n",
    "testPath = dataset + '/test.csv'\n",
    "\n",
    "train = []\n",
    "dev = []\n",
    "test = []\n",
    "\n",
    "reader = csv.DictReader(open(trainPath))\n",
    "for row in reader:\n",
    "    inp_example = InputExample(texts=[row['sentence1'], row['sentence2']], label=float(row['label']))\n",
    "    train.append(inp_example)\n",
    "    \n",
    "reader = csv.DictReader(open(devPath))\n",
    "for row in reader:\n",
    "    inp_example = InputExample(texts=[row['sentence1'], row['sentence2']], label=float(row['label']))\n",
    "    dev.append(inp_example)\n",
    "    \n",
    "reader = csv.DictReader(open(testPath))\n",
    "for row in reader:\n",
    "    inp_example = InputExample(texts=[row['sentence1'], row['sentence2']], label=float(row['label']))\n",
    "    test.append(inp_example)"
   ]
  },
  {
   "cell_type": "code",
   "execution_count": 54,
   "metadata": {},
   "outputs": [],
   "source": [
    "# Setup Train set\n",
    "trainDataloader = DataLoader(train, batch_size=train_batch_size)\n",
    "train_loss = losses.CosineSimilarityLoss(model=model)"
   ]
  },
  {
   "cell_type": "code",
   "execution_count": 55,
   "metadata": {},
   "outputs": [],
   "source": [
    "# Setup Dev set\n",
    "evaluator = EmbeddingSimilarityEvaluator.from_input_examples(dev, name='mrpc-dev')"
   ]
  },
  {
   "cell_type": "code",
   "execution_count": 56,
   "metadata": {},
   "outputs": [
    {
     "data": {
      "application/vnd.jupyter.widget-view+json": {
       "model_id": "dc8b9a87ac9141b29b900d49b937d247",
       "version_major": 2,
       "version_minor": 0
      },
      "text/plain": [
       "Epoch:   0%|          | 0/1 [00:00<?, ?it/s]"
      ]
     },
     "metadata": {},
     "output_type": "display_data"
    },
    {
     "data": {
      "application/vnd.jupyter.widget-view+json": {
       "model_id": "4864c4a7d94b4c50bdd33641231d9bf1",
       "version_major": 2,
       "version_minor": 0
      },
      "text/plain": [
       "Iteration:   0%|          | 0/230 [00:00<?, ?it/s]"
      ]
     },
     "metadata": {},
     "output_type": "display_data"
    }
   ],
   "source": [
    "# Training the Model\n",
    "warmup_steps = math.ceil(len(trainDataloader) * num_epochs * 0.1) # 10% of train data for warm-up\n",
    "\n",
    "model.fit(train_objectives=[(trainDataloader, train_loss)],\n",
    "          evaluator=evaluator,\n",
    "          epochs=num_epochs,\n",
    "          evaluation_steps=1000,\n",
    "          warmup_steps=warmup_steps,\n",
    "          output_path=model_save_path)"
   ]
  },
  {
   "cell_type": "code",
   "execution_count": 57,
   "metadata": {},
   "outputs": [
    {
     "data": {
      "text/plain": [
       "0.6147395224559882"
      ]
     },
     "execution_count": 57,
     "metadata": {},
     "output_type": "execute_result"
    }
   ],
   "source": [
    "# Store the model and evaluate it\n",
    "model = SentenceTransformer(model_save_path)\n",
    "test_evaluator = EmbeddingSimilarityEvaluator.from_input_examples(test, name='mrpc-test')\n",
    "test_evaluator(model, output_path=model_save_path)  "
   ]
  }
 ],
 "metadata": {
  "kernelspec": {
   "display_name": "debate64",
   "language": "python",
   "name": "python3"
  },
  "language_info": {
   "codemirror_mode": {
    "name": "ipython",
    "version": 3
   },
   "file_extension": ".py",
   "mimetype": "text/x-python",
   "name": "python",
   "nbconvert_exporter": "python",
   "pygments_lexer": "ipython3",
   "version": "3.9.15"
  },
  "orig_nbformat": 4,
  "vscode": {
   "interpreter": {
    "hash": "4508a425fe90c08491378a4d062128f7fda83d5676f3a3bff1cf781a8360a035"
   }
  }
 },
 "nbformat": 4,
 "nbformat_minor": 2
}
